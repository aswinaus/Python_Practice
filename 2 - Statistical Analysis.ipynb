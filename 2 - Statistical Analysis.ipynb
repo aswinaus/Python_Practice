{
 "cells": [
  {
   "cell_type": "markdown",
   "id": "eeae2daa",
   "metadata": {
    "id": "eeae2daa"
   },
   "source": [
    "# Statistical Analysis\n",
    "\n",
    "As we covered ways to discover insights with our data in our previous lesson, a different type of analysis to cover is the use of statistics to further enhance our findings. \n",
    "\n",
    "In any sort of business, statistical analysis can help the organization make better decisions based on data, employ correct analysis tactics, make accurate predictions, and so much more. Python can be utilized in ways to get these insights with the use of its functions."
   ]
  },
  {
   "cell_type": "markdown",
   "id": "1bfc6d84",
   "metadata": {
    "id": "1bfc6d84"
   },
   "source": [
    "## Single Variable Statistics"
   ]
  },
  {
   "cell_type": "markdown",
   "id": "f30e6121",
   "metadata": {
    "id": "f30e6121"
   },
   "source": [
    "We will start off with an introduction to the basics of statistics: `mean`, `median` and `mode`.\n",
    "\n",
    "\n",
    " 1. `Mean`: The average of the dataset. Best used when the distribution is even and the variance is low\n",
    " 2. `Median`: The middle of the dataset. Best used as a measure of location to mitigate the effect of outliers in the data\n",
    " 3. `Mode`: The most common number of the dataset. Used to figure out which number is the most prevailant or where the data is most concentrated in. Sometimes, mode will not exist in the data\n",
    "\n",
    "We can use pandas and use statistical functions to find these insights:"
   ]
  },
  {
   "cell_type": "code",
   "execution_count": 1,
   "id": "40411195",
   "metadata": {
    "id": "40411195",
    "outputId": "6b7d0c26-42c5-4bf6-ef16-0968bbbd15c0"
   },
   "outputs": [
    {
     "data": {
      "text/html": [
       "<div>\n",
       "<style scoped>\n",
       "    .dataframe tbody tr th:only-of-type {\n",
       "        vertical-align: middle;\n",
       "    }\n",
       "\n",
       "    .dataframe tbody tr th {\n",
       "        vertical-align: top;\n",
       "    }\n",
       "\n",
       "    .dataframe thead th {\n",
       "        text-align: right;\n",
       "    }\n",
       "</style>\n",
       "<table border=\"1\" class=\"dataframe\">\n",
       "  <thead>\n",
       "    <tr style=\"text-align: right;\">\n",
       "      <th></th>\n",
       "      <th>StudentID</th>\n",
       "      <th>FirstName</th>\n",
       "      <th>LastName</th>\n",
       "      <th>GradeAverage</th>\n",
       "      <th>Faculty</th>\n",
       "      <th>Tuition</th>\n",
       "      <th>OfficeHoursParticipated</th>\n",
       "      <th>ClassesSkipped</th>\n",
       "    </tr>\n",
       "  </thead>\n",
       "  <tbody>\n",
       "    <tr>\n",
       "      <th>0</th>\n",
       "      <td>20123456</td>\n",
       "      <td>John</td>\n",
       "      <td>Park</td>\n",
       "      <td>B</td>\n",
       "      <td>Arts</td>\n",
       "      <td>44191</td>\n",
       "      <td>0</td>\n",
       "      <td>5</td>\n",
       "    </tr>\n",
       "    <tr>\n",
       "      <th>1</th>\n",
       "      <td>20123457</td>\n",
       "      <td>Alex</td>\n",
       "      <td>Great</td>\n",
       "      <td>B</td>\n",
       "      <td>Science</td>\n",
       "      <td>32245</td>\n",
       "      <td>4</td>\n",
       "      <td>10</td>\n",
       "    </tr>\n",
       "    <tr>\n",
       "      <th>2</th>\n",
       "      <td>20123458</td>\n",
       "      <td>Sebastian</td>\n",
       "      <td>Taylor</td>\n",
       "      <td>B</td>\n",
       "      <td>Business</td>\n",
       "      <td>42679</td>\n",
       "      <td>6</td>\n",
       "      <td>7</td>\n",
       "    </tr>\n",
       "    <tr>\n",
       "      <th>3</th>\n",
       "      <td>20123459</td>\n",
       "      <td>Michael</td>\n",
       "      <td>Bay</td>\n",
       "      <td>A</td>\n",
       "      <td>Math</td>\n",
       "      <td>46478</td>\n",
       "      <td>15</td>\n",
       "      <td>2</td>\n",
       "    </tr>\n",
       "    <tr>\n",
       "      <th>4</th>\n",
       "      <td>20123460</td>\n",
       "      <td>Scott</td>\n",
       "      <td>Foster</td>\n",
       "      <td>A</td>\n",
       "      <td>Engineering</td>\n",
       "      <td>36784</td>\n",
       "      <td>5</td>\n",
       "      <td>8</td>\n",
       "    </tr>\n",
       "    <tr>\n",
       "      <th>5</th>\n",
       "      <td>20123461</td>\n",
       "      <td>Amy</td>\n",
       "      <td>Winehouse</td>\n",
       "      <td>B</td>\n",
       "      <td>Arts</td>\n",
       "      <td>36537</td>\n",
       "      <td>10</td>\n",
       "      <td>3</td>\n",
       "    </tr>\n",
       "    <tr>\n",
       "      <th>6</th>\n",
       "      <td>20123462</td>\n",
       "      <td>Ralph</td>\n",
       "      <td>Wiggins</td>\n",
       "      <td>B</td>\n",
       "      <td>Business</td>\n",
       "      <td>40762</td>\n",
       "      <td>2</td>\n",
       "      <td>8</td>\n",
       "    </tr>\n",
       "    <tr>\n",
       "      <th>7</th>\n",
       "      <td>20123463</td>\n",
       "      <td>Homer</td>\n",
       "      <td>Simpson</td>\n",
       "      <td>C</td>\n",
       "      <td>Engineering</td>\n",
       "      <td>47669</td>\n",
       "      <td>4</td>\n",
       "      <td>7</td>\n",
       "    </tr>\n",
       "    <tr>\n",
       "      <th>8</th>\n",
       "      <td>20123464</td>\n",
       "      <td>Marge</td>\n",
       "      <td>Simpson</td>\n",
       "      <td>B</td>\n",
       "      <td>Math</td>\n",
       "      <td>39429</td>\n",
       "      <td>10</td>\n",
       "      <td>3</td>\n",
       "    </tr>\n",
       "    <tr>\n",
       "      <th>9</th>\n",
       "      <td>20123465</td>\n",
       "      <td>Peter</td>\n",
       "      <td>Gryffin</td>\n",
       "      <td>D</td>\n",
       "      <td>Arts</td>\n",
       "      <td>31956</td>\n",
       "      <td>7</td>\n",
       "      <td>7</td>\n",
       "    </tr>\n",
       "    <tr>\n",
       "      <th>10</th>\n",
       "      <td>20123466</td>\n",
       "      <td>Louise</td>\n",
       "      <td>King</td>\n",
       "      <td>D</td>\n",
       "      <td>Business</td>\n",
       "      <td>33227</td>\n",
       "      <td>6</td>\n",
       "      <td>7</td>\n",
       "    </tr>\n",
       "    <tr>\n",
       "      <th>11</th>\n",
       "      <td>20123467</td>\n",
       "      <td>Megan</td>\n",
       "      <td>Botts</td>\n",
       "      <td>A</td>\n",
       "      <td>Science</td>\n",
       "      <td>34751</td>\n",
       "      <td>25</td>\n",
       "      <td>1</td>\n",
       "    </tr>\n",
       "    <tr>\n",
       "      <th>12</th>\n",
       "      <td>20123468</td>\n",
       "      <td>Cyrus</td>\n",
       "      <td>Wong</td>\n",
       "      <td>A</td>\n",
       "      <td>Science</td>\n",
       "      <td>49298</td>\n",
       "      <td>20</td>\n",
       "      <td>0</td>\n",
       "    </tr>\n",
       "    <tr>\n",
       "      <th>13</th>\n",
       "      <td>20123469</td>\n",
       "      <td>Michelle</td>\n",
       "      <td>Chang</td>\n",
       "      <td>B</td>\n",
       "      <td>Business</td>\n",
       "      <td>35046</td>\n",
       "      <td>5</td>\n",
       "      <td>4</td>\n",
       "    </tr>\n",
       "    <tr>\n",
       "      <th>14</th>\n",
       "      <td>20123470</td>\n",
       "      <td>Zachary</td>\n",
       "      <td>Chua</td>\n",
       "      <td>A</td>\n",
       "      <td>Business</td>\n",
       "      <td>31210</td>\n",
       "      <td>10</td>\n",
       "      <td>0</td>\n",
       "    </tr>\n",
       "    <tr>\n",
       "      <th>15</th>\n",
       "      <td>20123471</td>\n",
       "      <td>Angus</td>\n",
       "      <td>Helmsworth</td>\n",
       "      <td>B</td>\n",
       "      <td>Business</td>\n",
       "      <td>47515</td>\n",
       "      <td>10</td>\n",
       "      <td>1</td>\n",
       "    </tr>\n",
       "    <tr>\n",
       "      <th>16</th>\n",
       "      <td>20123472</td>\n",
       "      <td>Aaron</td>\n",
       "      <td>McDowell</td>\n",
       "      <td>B</td>\n",
       "      <td>Business</td>\n",
       "      <td>43421</td>\n",
       "      <td>13</td>\n",
       "      <td>2</td>\n",
       "    </tr>\n",
       "    <tr>\n",
       "      <th>17</th>\n",
       "      <td>20123473</td>\n",
       "      <td>Carol</td>\n",
       "      <td>Kuo</td>\n",
       "      <td>B</td>\n",
       "      <td>Engineering</td>\n",
       "      <td>43063</td>\n",
       "      <td>7</td>\n",
       "      <td>4</td>\n",
       "    </tr>\n",
       "    <tr>\n",
       "      <th>18</th>\n",
       "      <td>20123474</td>\n",
       "      <td>Tim</td>\n",
       "      <td>James</td>\n",
       "      <td>B</td>\n",
       "      <td>Science</td>\n",
       "      <td>46775</td>\n",
       "      <td>9</td>\n",
       "      <td>4</td>\n",
       "    </tr>\n",
       "    <tr>\n",
       "      <th>19</th>\n",
       "      <td>20123475</td>\n",
       "      <td>Johnson</td>\n",
       "      <td>Curry</td>\n",
       "      <td>B</td>\n",
       "      <td>Engineering</td>\n",
       "      <td>40539</td>\n",
       "      <td>9</td>\n",
       "      <td>3</td>\n",
       "    </tr>\n",
       "    <tr>\n",
       "      <th>20</th>\n",
       "      <td>20123476</td>\n",
       "      <td>Paul</td>\n",
       "      <td>Reed</td>\n",
       "      <td>A</td>\n",
       "      <td>Business</td>\n",
       "      <td>41397</td>\n",
       "      <td>14</td>\n",
       "      <td>2</td>\n",
       "    </tr>\n",
       "    <tr>\n",
       "      <th>21</th>\n",
       "      <td>20123477</td>\n",
       "      <td>Josh</td>\n",
       "      <td>Hart</td>\n",
       "      <td>A</td>\n",
       "      <td>Engineering</td>\n",
       "      <td>46468</td>\n",
       "      <td>4</td>\n",
       "      <td>8</td>\n",
       "    </tr>\n",
       "    <tr>\n",
       "      <th>22</th>\n",
       "      <td>20123478</td>\n",
       "      <td>Justin</td>\n",
       "      <td>Kang</td>\n",
       "      <td>A</td>\n",
       "      <td>Engineering</td>\n",
       "      <td>35859</td>\n",
       "      <td>2</td>\n",
       "      <td>9</td>\n",
       "    </tr>\n",
       "    <tr>\n",
       "      <th>23</th>\n",
       "      <td>20123479</td>\n",
       "      <td>Kevin</td>\n",
       "      <td>Yoo</td>\n",
       "      <td>A</td>\n",
       "      <td>Arts</td>\n",
       "      <td>41048</td>\n",
       "      <td>8</td>\n",
       "      <td>1</td>\n",
       "    </tr>\n",
       "    <tr>\n",
       "      <th>24</th>\n",
       "      <td>20123480</td>\n",
       "      <td>Rosaline</td>\n",
       "      <td>Jun</td>\n",
       "      <td>A</td>\n",
       "      <td>Arts</td>\n",
       "      <td>44915</td>\n",
       "      <td>25</td>\n",
       "      <td>3</td>\n",
       "    </tr>\n",
       "    <tr>\n",
       "      <th>25</th>\n",
       "      <td>20123481</td>\n",
       "      <td>Jimin</td>\n",
       "      <td>Park</td>\n",
       "      <td>B</td>\n",
       "      <td>Engineering</td>\n",
       "      <td>34570</td>\n",
       "      <td>20</td>\n",
       "      <td>3</td>\n",
       "    </tr>\n",
       "    <tr>\n",
       "      <th>26</th>\n",
       "      <td>20123482</td>\n",
       "      <td>Joseph</td>\n",
       "      <td>Kim</td>\n",
       "      <td>A</td>\n",
       "      <td>Math</td>\n",
       "      <td>33376</td>\n",
       "      <td>12</td>\n",
       "      <td>6</td>\n",
       "    </tr>\n",
       "    <tr>\n",
       "      <th>27</th>\n",
       "      <td>20123483</td>\n",
       "      <td>Chris</td>\n",
       "      <td>Dang</td>\n",
       "      <td>F</td>\n",
       "      <td>Business</td>\n",
       "      <td>44737</td>\n",
       "      <td>3</td>\n",
       "      <td>8</td>\n",
       "    </tr>\n",
       "    <tr>\n",
       "      <th>28</th>\n",
       "      <td>20123484</td>\n",
       "      <td>Robbie</td>\n",
       "      <td>Tee</td>\n",
       "      <td>B</td>\n",
       "      <td>Engineering</td>\n",
       "      <td>49682</td>\n",
       "      <td>10</td>\n",
       "      <td>6</td>\n",
       "    </tr>\n",
       "    <tr>\n",
       "      <th>29</th>\n",
       "      <td>20123485</td>\n",
       "      <td>Shelly</td>\n",
       "      <td>Yoon</td>\n",
       "      <td>A</td>\n",
       "      <td>Math</td>\n",
       "      <td>33585</td>\n",
       "      <td>5</td>\n",
       "      <td>10</td>\n",
       "    </tr>\n",
       "  </tbody>\n",
       "</table>\n",
       "</div>"
      ],
      "text/plain": [
       "    StudentID  FirstName    LastName GradeAverage      Faculty  Tuition  \\\n",
       "0    20123456       John        Park            B         Arts    44191   \n",
       "1    20123457       Alex       Great            B      Science    32245   \n",
       "2    20123458  Sebastian      Taylor            B     Business    42679   \n",
       "3    20123459    Michael         Bay            A         Math    46478   \n",
       "4    20123460      Scott      Foster            A  Engineering    36784   \n",
       "5    20123461        Amy   Winehouse            B         Arts    36537   \n",
       "6    20123462      Ralph     Wiggins            B     Business    40762   \n",
       "7    20123463      Homer     Simpson            C  Engineering    47669   \n",
       "8    20123464      Marge     Simpson            B         Math    39429   \n",
       "9    20123465      Peter     Gryffin            D         Arts    31956   \n",
       "10   20123466     Louise        King            D     Business    33227   \n",
       "11   20123467      Megan       Botts            A      Science    34751   \n",
       "12   20123468      Cyrus        Wong            A      Science    49298   \n",
       "13   20123469   Michelle       Chang            B     Business    35046   \n",
       "14   20123470    Zachary        Chua            A     Business    31210   \n",
       "15   20123471      Angus  Helmsworth            B     Business    47515   \n",
       "16   20123472      Aaron    McDowell            B     Business    43421   \n",
       "17   20123473      Carol         Kuo            B  Engineering    43063   \n",
       "18   20123474        Tim       James            B      Science    46775   \n",
       "19   20123475    Johnson       Curry            B  Engineering    40539   \n",
       "20   20123476       Paul        Reed            A     Business    41397   \n",
       "21   20123477       Josh        Hart            A  Engineering    46468   \n",
       "22   20123478     Justin        Kang            A  Engineering    35859   \n",
       "23   20123479      Kevin         Yoo            A         Arts    41048   \n",
       "24   20123480   Rosaline         Jun            A         Arts    44915   \n",
       "25   20123481      Jimin        Park            B  Engineering    34570   \n",
       "26   20123482     Joseph         Kim            A         Math    33376   \n",
       "27   20123483      Chris        Dang            F     Business    44737   \n",
       "28   20123484     Robbie         Tee            B  Engineering    49682   \n",
       "29   20123485     Shelly        Yoon            A         Math    33585   \n",
       "\n",
       "    OfficeHoursParticipated  ClassesSkipped  \n",
       "0                         0               5  \n",
       "1                         4              10  \n",
       "2                         6               7  \n",
       "3                        15               2  \n",
       "4                         5               8  \n",
       "5                        10               3  \n",
       "6                         2               8  \n",
       "7                         4               7  \n",
       "8                        10               3  \n",
       "9                         7               7  \n",
       "10                        6               7  \n",
       "11                       25               1  \n",
       "12                       20               0  \n",
       "13                        5               4  \n",
       "14                       10               0  \n",
       "15                       10               1  \n",
       "16                       13               2  \n",
       "17                        7               4  \n",
       "18                        9               4  \n",
       "19                        9               3  \n",
       "20                       14               2  \n",
       "21                        4               8  \n",
       "22                        2               9  \n",
       "23                        8               1  \n",
       "24                       25               3  \n",
       "25                       20               3  \n",
       "26                       12               6  \n",
       "27                        3               8  \n",
       "28                       10               6  \n",
       "29                        5              10  "
      ]
     },
     "execution_count": 1,
     "metadata": {},
     "output_type": "execute_result"
    }
   ],
   "source": [
    "import pandas as pd\n",
    "import numpy as np\n",
    "\n",
    "df_grades = pd.read_csv('Student Grades.csv')\n",
    "df_grades"
   ]
  },
  {
   "cell_type": "code",
   "execution_count": 3,
   "id": "22b8db3a",
   "metadata": {
    "id": "22b8db3a",
    "outputId": "7fe2bbee-728a-41f7-8d3d-67e9f282a458"
   },
   "outputs": [
    {
     "data": {
      "text/plain": [
       "40307.066666666666"
      ]
     },
     "execution_count": 3,
     "metadata": {},
     "output_type": "execute_result"
    }
   ],
   "source": [
    "df_grades['Tuition'].mean()"
   ]
  },
  {
   "cell_type": "code",
   "execution_count": 5,
   "id": "6db5b664",
   "metadata": {
    "id": "6db5b664",
    "outputId": "c894833e-204f-4799-ea9e-d91f5d6a4ce9",
    "scrolled": true
   },
   "outputs": [
    {
     "data": {
      "text/plain": [
       "8.5"
      ]
     },
     "execution_count": 5,
     "metadata": {},
     "output_type": "execute_result"
    }
   ],
   "source": [
    "df_grades['OfficeHoursParticipated'].median()"
   ]
  },
  {
   "cell_type": "code",
   "execution_count": 7,
   "id": "e38f8152",
   "metadata": {
    "id": "e38f8152",
    "outputId": "b562ed49-fffe-4fb0-8ac0-255c0e51ec63",
    "scrolled": true
   },
   "outputs": [
    {
     "data": {
      "text/plain": [
       "0    3\n",
       "Name: ClassesSkipped, dtype: int64"
      ]
     },
     "execution_count": 7,
     "metadata": {},
     "output_type": "execute_result"
    }
   ],
   "source": [
    "df_grades['ClassesSkipped'].mode()"
   ]
  },
  {
   "cell_type": "code",
   "execution_count": 9,
   "id": "c63dc9c8",
   "metadata": {
    "id": "c63dc9c8",
    "outputId": "9887dbce-a028-4ff6-92f3-06f7af467a99"
   },
   "outputs": [
    {
     "data": {
      "text/plain": [
       "Tuition           40307.066667\n",
       "ClassesSkipped        4.733333\n",
       "dtype: float64"
      ]
     },
     "execution_count": 9,
     "metadata": {},
     "output_type": "execute_result"
    }
   ],
   "source": [
    "# You can also select multiple columns at a time\n",
    "df_grades[['Tuition','ClassesSkipped']].mean()"
   ]
  },
  {
   "cell_type": "markdown",
   "id": "2db0083a",
   "metadata": {
    "id": "2db0083a"
   },
   "source": [
    "One of the key concepts in statistics is the idea of `variance` and `standard deviation`. \n",
    "\n",
    "1. `Variance` is a statistical measurement of how spread out the numbers are in a dataset\n",
    "2. `Standard deviation` is a statistical measurement of how spread out the numbers are, but relative to the mean and is calculated as the square root of the variance\n",
    "\n",
    "When we know how spread out the data is, we can identify insights such as how reliable our predictions will be due to volitility or identify outliers that affect our data.\n",
    "\n",
    "Keep in mind that pandas will automatically detect values that are numbers to calculate variance and standard deviation and exclude fields that contain letters. However, we must be mindful of columns that are numbers that do not make sense to have variance and standard deviation as they are categorical. For example, `StudentID` have numbers but they are used to classify a student.\n",
    "\n",
    "With that being said, we can use the `var()` and `std()` function to find the variance and standard deviation of our DataFrame."
   ]
  },
  {
   "cell_type": "code",
   "execution_count": null,
   "id": "8d46f6df",
   "metadata": {
    "id": "8d46f6df",
    "outputId": "0bb9cc89-440d-4a3d-83c9-017112d47e12"
   },
   "outputs": [],
   "source": [
    "# Variance of entire DataFrame\n"
   ]
  },
  {
   "cell_type": "code",
   "execution_count": null,
   "id": "b63117e9",
   "metadata": {
    "id": "b63117e9",
    "outputId": "2e5d68a5-d202-4166-f4ee-8e70bc613285",
    "scrolled": true
   },
   "outputs": [],
   "source": [
    "# Standard deviation of entire DataFrame\n"
   ]
  },
  {
   "cell_type": "code",
   "execution_count": null,
   "id": "a97d9fb9",
   "metadata": {
    "id": "a97d9fb9",
    "outputId": "d1cf656b-990c-45c0-ab18-acc56be40c43"
   },
   "outputs": [],
   "source": [
    "# Variance of specific column\n"
   ]
  },
  {
   "cell_type": "code",
   "execution_count": null,
   "id": "0bd43ea9",
   "metadata": {
    "id": "0bd43ea9",
    "outputId": "359e4821-e648-4f3f-e528-6482002bb9b6"
   },
   "outputs": [],
   "source": [
    "# Standard deviation of specific column\n"
   ]
  },
  {
   "cell_type": "markdown",
   "id": "7717b7e0",
   "metadata": {
    "id": "7717b7e0"
   },
   "source": [
    "We can also see a snapshot of all the column statistics with the `describe()` function as well:\n"
   ]
  },
  {
   "cell_type": "code",
   "execution_count": null,
   "id": "378cfc6e",
   "metadata": {
    "id": "378cfc6e",
    "outputId": "8249a6d3-cbdd-4946-97fc-b53bc10ac749",
    "scrolled": true
   },
   "outputs": [],
   "source": []
  },
  {
   "cell_type": "markdown",
   "id": "810c168e",
   "metadata": {
    "id": "810c168e"
   },
   "source": [
    "## Z-score\n",
    "\n",
    "A `z-score` is a measurement that describes the distance a value is from the mean of a normal data distribution. `Z-score` is measured in terms of `standard deviations`. A `z-score` typically tells us how far a value is in standard deviations, so that we can understand it in a scaled value.\n",
    "\n",
    "A `z-score` can be calculated using the following formula: z = (X – μ) / σ\n",
    "\n",
    "\n",
    "X is the single input value\n",
    "\n",
    "μ is the population mean\n",
    "\n",
    "σ is the population standard deviation\n",
    "\n",
    "\n",
    "With this, we can calculate the standard deviation of each student's participation in office hours to see who spends the most time."
   ]
  },
  {
   "cell_type": "code",
   "execution_count": null,
   "id": "9e35b74d",
   "metadata": {
    "id": "9e35b74d"
   },
   "outputs": [],
   "source": []
  },
  {
   "cell_type": "code",
   "execution_count": null,
   "id": "914455e9",
   "metadata": {
    "id": "914455e9"
   },
   "outputs": [],
   "source": []
  },
  {
   "cell_type": "code",
   "execution_count": null,
   "id": "e6b9de83",
   "metadata": {
    "id": "e6b9de83",
    "outputId": "7c9134eb-7e77-46a1-cff6-094d47a33f96"
   },
   "outputs": [],
   "source": []
  },
  {
   "cell_type": "markdown",
   "id": "275e4bb9",
   "metadata": {
    "id": "275e4bb9"
   },
   "source": [
    "## Identifying Outliers"
   ]
  },
  {
   "cell_type": "markdown",
   "id": "a92c09d3",
   "metadata": {
    "id": "a92c09d3"
   },
   "source": [
    "`Outliers` are defined as data points that are abnormally far from what is considered \"normal\". Sometimes, outliers causes hinderance to our data, as they might be there due to errors and it is up to us to decide if these abnormal data are to be included. Before we start identifying outliers, we are going to add a new column to our DataFrame `GPA`, based on the `GradeAverage` of the students. We will create this using the `np.select` function.\n"
   ]
  },
  {
   "cell_type": "code",
   "execution_count": null,
   "id": "fbc6a75f",
   "metadata": {
    "id": "fbc6a75f",
    "outputId": "ee9369a6-a2e4-4b65-f41a-97690c65cc38",
    "scrolled": true
   },
   "outputs": [],
   "source": [
    "# np.select ([list of categories], [list of categories to be replaced, in the same order])\n",
    "df_grades['GPA'] = np.select([df_grades['GradeAverage'] == 'A', \n",
    "                              df_grades['GradeAverage'] == 'B', \n",
    "                              df_grades['GradeAverage'] == 'C',\n",
    "                              df_grades['GradeAverage'] == 'D',\n",
    "                              df_grades['GradeAverage'] == 'F'],\n",
    "                             [4,3,2,1,0])\n",
    "\n",
    "df_grades                     "
   ]
  },
  {
   "cell_type": "markdown",
   "id": "08aea943",
   "metadata": {},
   "source": [
    "Data that is far outside the `interquartile range (IQR)` is identified as an outlier, also known as the`IQR rule`. The `IQR` is a measure of how 50% of the \"middle\" of the data is spread out.\n",
    "\n",
    "The `IQR` is calculated by subtracting the 75th percentile data point (third quartile) with the 25th percentile data point (first quartile). \n",
    "\n",
    "The `IQR rule` is calculated by multipying the `IQR` by 1.5 and adding it to the third quartile and subtracting it from the first quartile. If a number is greater than the third quartile or less than the first quartile after the addition/subtraction, then it can be seen as an outlier.\n",
    "\n",
    " Example: \n",
    "\n",
    " * IQR = 20 \n",
    " \n",
    " * Q3 = 70\n",
    " \n",
    " * Q1 = 50\n",
    " \n",
    " * IQR x 1.5 = 30\n",
    " \n",
    " * Q3 + 30 = 100 --> Anything above 100 is considered an outlier for this dataset \n",
    " \n",
    " * Q1 - 30 = 20 --> Anything below 20 is considered an outlier for this dataset\n",
    " \n",
    " \n",
    "With this logic, we can identify if any students have a GPA that is an outlier and add this to our data."
   ]
  },
  {
   "cell_type": "code",
   "execution_count": null,
   "id": "ad7553b3",
   "metadata": {
    "id": "ad7553b3",
    "outputId": "a396ea2d-5ad3-4303-e8ca-2442e081946c"
   },
   "outputs": [],
   "source": [
    "# np.percentile finds the specified percentile of an array\n",
    "q3 = np.percentile(df_grades['GPA'], 75)\n",
    "q1 = np.percentile(df_grades['GPA'], 25)\n",
    "IQR = q3 - q1\n",
    "IQR"
   ]
  },
  {
   "cell_type": "code",
   "execution_count": null,
   "id": "74ee1b90",
   "metadata": {
    "id": "74ee1b90",
    "outputId": "8f5bc31c-0785-4a22-c1f6-694ce4891b33",
    "scrolled": true
   },
   "outputs": [],
   "source": [
    "# Define IQR rule for the GPA column\n",
    "IQR_rule = (1.5*IQR + q3 < df_grades['GPA']) | (q1 - 1.5*IQR > df_grades['GPA'])\n",
    "\n",
    "# use np.where to create 'Outlier' column, is a student's GPA an outlier or not\n",
    "df_grades['Outlier'] = np.where(IQR_rule, 'yes', 'no')\n",
    "df_grades"
   ]
  },
  {
   "cell_type": "markdown",
   "id": "fd125b33",
   "metadata": {
    "id": "fd125b33"
   },
   "source": [
    "## Correlation"
   ]
  },
  {
   "cell_type": "markdown",
   "id": "7cc96a57",
   "metadata": {
    "id": "7cc96a57"
   },
   "source": [
    "So far, we have covered statistics that summarize the aspects of a single column of data. Now, we will explore how to use `correlation` to see how two columns of data will interact with one another.\n",
    "\n",
    "`Correlation` is the method to evaluate the strength of a relationship between two continous variables. This not only shows the direction between two variables, but also the magnitude of the relationship. `Correlation` values are between -1 and 1, with -1 being the highest value indirectly proportional, and 1 being the highest value directly proportional.\n",
    "\n",
    "To get an overall snapshot of `correlation` in our DataFrame, we can use the `corr()` function.\n"
   ]
  },
  {
   "cell_type": "code",
   "execution_count": null,
   "id": "412ddb8d",
   "metadata": {
    "id": "412ddb8d",
    "outputId": "7782fe6b-79a1-4e68-e792-6fc186393f53"
   },
   "outputs": [],
   "source": [
    "df_grades.corr()"
   ]
  },
  {
   "cell_type": "markdown",
   "id": "fae1a340",
   "metadata": {
    "id": "fae1a340"
   },
   "source": [
    "We see that based on the `correlation` function, there is a strong correlation negatively between `ClassesSkipped` and `GPA`, whereas there is a strong positive correlation between `OfficeHoursParticipated` and `GPA`. This makes sense as student skip more classes, the more likely their grades will drop, and the more office hours are attended, the more likely their grades will rise due to more support.\n",
    "\n",
    "However, as more data is added into the DataFrame, it may be hard to interpret the data by looking at just numbers. The best way to see a correlation matrix is with the use of a heatmap.\n",
    "\n",
    "Below is a simple heatmap created by `Seaborn`, which is a visualization package that we will cover in a later chapter. With the colors, we are more easily able to identify strong correlations without having to scan individual numbers in the matrix."
   ]
  },
  {
   "cell_type": "code",
   "execution_count": null,
   "id": "65e089d5",
   "metadata": {
    "id": "65e089d5",
    "outputId": "1db157a3-19a3-468d-d1ee-51b4063df480",
    "scrolled": true
   },
   "outputs": [],
   "source": [
    "import seaborn as sns\n",
    "sns.heatmap(df_grades.corr(), cmap='coolwarm')"
   ]
  }
 ],
 "metadata": {
  "colab": {
   "name": "Statistical Analysis.ipynb",
   "provenance": []
  },
  "kernelspec": {
   "display_name": "Python 3 (ipykernel)",
   "language": "python",
   "name": "python3"
  },
  "language_info": {
   "codemirror_mode": {
    "name": "ipython",
    "version": 3
   },
   "file_extension": ".py",
   "mimetype": "text/x-python",
   "name": "python",
   "nbconvert_exporter": "python",
   "pygments_lexer": "ipython3",
   "version": "3.12.7"
  }
 },
 "nbformat": 4,
 "nbformat_minor": 5
}
