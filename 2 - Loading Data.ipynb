{
 "cells": [
  {
   "cell_type": "markdown",
   "id": "f5736422",
   "metadata": {},
   "source": [
    "# Loading Data\n",
    "Now that we are more familiar with the NumPy and Pandas packages, we can start loading data into Python to start working with. We can load data into our notebook a few different ways. Four different ways that we'll look at in this notebook are:\n",
    "1. Generating data within our notebook using `np.arange()`\n",
    "2. Generating data within our notebook using `np.random` functions\n",
    "3. Importing external data into our notebook using Pandas DataReader\n",
    "4. Importing an external .csv file into our notebook"
   ]
  },
  {
   "cell_type": "markdown",
   "id": "84a910d4",
   "metadata": {},
   "source": [
    "## Generating Data with NumPy arange\n",
    "\n",
    "In the last chapter, we demonstrated how to create numpy arrays by providing all the values in an array. Numpy also allows us to more efficiently generate a range of values. Let's first look at the `arange()` function that creates a range of intervals. The value 30 that we put inside the parentheses is the ending interval of the array. This means that Array_3 will start at 0, and end before 30."
   ]
  },
  {
   "cell_type": "code",
   "execution_count": 1,
   "id": "166c4ccd",
   "metadata": {},
   "outputs": [
    {
     "data": {
      "text/plain": [
       "array([ 0,  1,  2,  3,  4,  5,  6,  7,  8,  9, 10, 11, 12, 13, 14, 15, 16,\n",
       "       17, 18, 19, 20, 21, 22, 23, 24, 25, 26, 27, 28, 29])"
      ]
     },
     "execution_count": 1,
     "metadata": {},
     "output_type": "execute_result"
    }
   ],
   "source": [
    "import numpy as np\n",
    "Array_3 = np.arange(30)\n",
    "Array_3"
   ]
  },
  {
   "cell_type": "markdown",
   "id": "c81086ea",
   "metadata": {},
   "source": [
    "We can also provide a starting interval, in this case 3, and an ending interval, in this case 7. This array starts at 3 and ends before 7."
   ]
  },
  {
   "cell_type": "code",
   "execution_count": 11,
   "id": "4a207691",
   "metadata": {},
   "outputs": [
    {
     "data": {
      "text/plain": [
       "array([3, 4, 5, 6])"
      ]
     },
     "execution_count": 11,
     "metadata": {},
     "output_type": "execute_result"
    }
   ],
   "source": [
    "np.arange(3,7)"
   ]
  },
  {
   "cell_type": "markdown",
   "id": "9d5632b9",
   "metadata": {},
   "source": [
    "Another information we can add is a step. For example, let's create an array starting at 1, ending at 10, and the 2 step means the range runs every other number. And again, it goes up to but not the last value."
   ]
  },
  {
   "cell_type": "code",
   "execution_count": 15,
   "id": "383b4a2e",
   "metadata": {},
   "outputs": [
    {
     "data": {
      "text/plain": [
       "array([1, 3, 5, 7, 9])"
      ]
     },
     "execution_count": 15,
     "metadata": {},
     "output_type": "execute_result"
    }
   ],
   "source": [
    "# Arrange (starting interval, ending interval, step)\n",
    "np.arange(1,10,2)"
   ]
  },
  {
   "cell_type": "markdown",
   "id": "52d27a7f",
   "metadata": {},
   "source": [
    "The last two examples are arrays consists of a range of integers. We can also gather a range of float values within an interval. For this purpose we'll use the `linspace()` function. This function includes a starting value, an ending value, and the number of items in this array. This example will return 20 values evenly spaced between 0 to 5."
   ]
  },
  {
   "cell_type": "code",
   "execution_count": null,
   "id": "ea69c914-6a56-4eea-9374-bac72315fe9e",
   "metadata": {},
   "outputs": [],
   "source": [
    "# Gathering a range of values within an interval can also be done.\n",
    "np.linspace(0,5,20)"
   ]
  },
  {
   "cell_type": "raw",
   "id": "ec740137-c5bb-42b0-9394-400bd74f3aeb",
   "metadata": {},
   "source": [
    "The last two examples are arrays consists of a range of integers. We can also gather a range of float values within an interval. For this purpose we'll use the linspace() function. This function includes a starting value, an ending value, and the number of items in this array. This example will return 20 values evenly spaced between 0 to 1."
   ]
  },
  {
   "cell_type": "code",
   "execution_count": 23,
   "id": "d018e483-d5ed-44a2-bc0c-23eb70adb491",
   "metadata": {},
   "outputs": [
    {
     "data": {
      "text/plain": [
       "array([0.        , 0.05263158, 0.10526316, 0.15789474, 0.21052632,\n",
       "       0.26315789, 0.31578947, 0.36842105, 0.42105263, 0.47368421,\n",
       "       0.52631579, 0.57894737, 0.63157895, 0.68421053, 0.73684211,\n",
       "       0.78947368, 0.84210526, 0.89473684, 0.94736842, 1.        ])"
      ]
     },
     "execution_count": 23,
     "metadata": {},
     "output_type": "execute_result"
    }
   ],
   "source": [
    "# Gathering a range of values within an interval can also be done.\n",
    "np.linspace(0,1,20)"
   ]
  },
  {
   "cell_type": "markdown",
   "id": "e93010a9",
   "metadata": {},
   "source": [
    "A range has similar properties as lists and other numpy arrays when it comes to indexing. Let's use Array_3 that we created earlier as an example. To call the 5th value within the array, we call index 4 in the square brackes."
   ]
  },
  {
   "cell_type": "code",
   "execution_count": 33,
   "id": "17edbfca",
   "metadata": {},
   "outputs": [
    {
     "data": {
      "text/plain": [
       "4"
      ]
     },
     "execution_count": 33,
     "metadata": {},
     "output_type": "execute_result"
    }
   ],
   "source": [
    "Array_3[4]"
   ]
  },
  {
   "cell_type": "markdown",
   "id": "2f463351",
   "metadata": {},
   "source": [
    "## Generating Data with NumPy random\n",
    "\n",
    "There are a lot of functions that allow us to generate randomized values in a numpy array. Let start with `random.rand` function. It generates random floats from 0 to 1. In the parentheses we can put how many numbers we want to generate. In this example we generated 10 random floats."
   ]
  },
  {
   "cell_type": "code",
   "execution_count": 39,
   "id": "9564f473",
   "metadata": {},
   "outputs": [
    {
     "data": {
      "text/plain": [
       "array([0.57603   , 0.53616622, 0.68813121, 0.40779964, 0.26871454,\n",
       "       0.64432221, 0.34173949, 0.52524011, 0.87945939, 0.27084773])"
      ]
     },
     "execution_count": 39,
     "metadata": {},
     "output_type": "execute_result"
    }
   ],
   "source": [
    "# creating an array of random floats\n",
    "np.random.rand(10)"
   ]
  },
  {
   "cell_type": "markdown",
   "id": "7f426336",
   "metadata": {},
   "source": [
    "Another function we can use is the `random.randint` function. It can be used to gather a random integer within a range. For example, we will have a random whole number between 10 and 20. It is important to note that this function includes 10 up to 19."
   ]
  },
  {
   "cell_type": "code",
   "execution_count": 57,
   "id": "7fc975db",
   "metadata": {
    "scrolled": true
   },
   "outputs": [
    {
     "data": {
      "text/plain": [
       "18"
      ]
     },
     "execution_count": 57,
     "metadata": {},
     "output_type": "execute_result"
    }
   ],
   "source": [
    "# gathering a random interger within a range\n",
    "np.random.randint(10,20)"
   ]
  },
  {
   "cell_type": "markdown",
   "id": "5e75ee25",
   "metadata": {},
   "source": [
    "If we add a number in the end, we can generate a number of random integers wthin this range. This example creates an array of 5 integers in between 10 and 20. We might get repeatative values from the random functions."
   ]
  },
  {
   "cell_type": "code",
   "execution_count": 65,
   "id": "91439a6d",
   "metadata": {},
   "outputs": [
    {
     "data": {
      "text/plain": [
       "array([14, 13, 13, 17, 10])"
      ]
     },
     "execution_count": 65,
     "metadata": {},
     "output_type": "execute_result"
    }
   ],
   "source": [
    "# gathering an array of random intergers within a range\n",
    "np.random.randint(10,20,5)"
   ]
  },
  {
   "cell_type": "markdown",
   "id": "8399cd32",
   "metadata": {},
   "source": [
    "We can also create a random matrix by providing a shape. For example, let's create an array of integers in between 1 and 100, the matrix contains 2 rows and 4 columns. "
   ]
  },
  {
   "cell_type": "code",
   "execution_count": 79,
   "id": "4ae41099",
   "metadata": {},
   "outputs": [
    {
     "data": {
      "text/plain": [
       "array([[58, 92, 60, 46],\n",
       "       [84, 14, 73, 32]])"
      ]
     },
     "execution_count": 79,
     "metadata": {},
     "output_type": "execute_result"
    }
   ],
   "source": [
    "np.random.randint(1,101,(2,4))"
   ]
  },
  {
   "cell_type": "markdown",
   "id": "248d1ccb",
   "metadata": {},
   "source": [
    "Since all the numbers are randomly generated, if we run all of these functions again we're likely to get completely different values. If we want to generate a random number and keep it throughout a model, we can use the seed function.\n",
    "\n",
    "Seed function tells Python under the hood to \"randomize\" from the same method for any computer.  So, it basically eliminates randomness.  We would do this to ensure reproducibiliy.  But in production, randomization helps in forecasting, so you could disable seed there."
   ]
  },
  {
   "cell_type": "code",
   "execution_count": 98,
   "id": "ad90bbc4",
   "metadata": {},
   "outputs": [
    {
     "data": {
      "text/plain": [
       "array([0.18026969, 0.01947524, 0.46321853])"
      ]
     },
     "execution_count": 98,
     "metadata": {},
     "output_type": "execute_result"
    }
   ],
   "source": [
    "# fixing the randomizer to get the same random values for reproduction\n",
    "np.random.seed(11)\n",
    "np.random.rand(3)"
   ]
  },
  {
   "cell_type": "markdown",
   "id": "e3096011",
   "metadata": {},
   "source": [
    "If we remove the seed line, we'll get 3 different values every time we run the code."
   ]
  },
  {
   "cell_type": "code",
   "execution_count": 101,
   "id": "d3d9847a",
   "metadata": {},
   "outputs": [
    {
     "data": {
      "text/plain": [
       "array([0.72493393, 0.4202036 , 0.4854271 ])"
      ]
     },
     "execution_count": 101,
     "metadata": {},
     "output_type": "execute_result"
    }
   ],
   "source": [
    "# without the seed\n",
    "np.random.rand(3)"
   ]
  },
  {
   "cell_type": "markdown",
   "id": "14c3af7d",
   "metadata": {},
   "source": [
    "If we run the same code again, adding back the seed, we get the same result."
   ]
  },
  {
   "cell_type": "code",
   "execution_count": 104,
   "id": "dabb8da6",
   "metadata": {},
   "outputs": [
    {
     "data": {
      "text/plain": [
       "array([0.18026969, 0.01947524, 0.46321853])"
      ]
     },
     "execution_count": 104,
     "metadata": {},
     "output_type": "execute_result"
    }
   ],
   "source": [
    "np.random.seed(11)\n",
    "np.random.rand(3)"
   ]
  },
  {
   "cell_type": "code",
   "execution_count": null,
   "id": "547959d7-9257-484c-921b-78002daa5e35",
   "metadata": {},
   "outputs": [],
   "source": [
    "## Importing External Data with Pandas DataReader\n",
    "\n",
    "Rather than defining our data manually, we can leverage functionality within Pandas to connect to and import external data into our notebook.\n",
    "\n",
    "Functions from `pandas_datareader.data` extract external data from the web into a Pandas DataFrame. We'll look at an example of using datareader to import financial data from Naver."
   ]
  },
  {
   "cell_type": "code",
   "execution_count": 118,
   "id": "4eef7894",
   "metadata": {},
   "outputs": [
    {
     "name": "stdout",
     "output_type": "stream",
     "text": [
      "Requirement already satisfied: pandas_datareader in c:\\users\\aswin\\anaconda3\\lib\\site-packages (0.10.0)\n",
      "Requirement already satisfied: lxml in c:\\users\\aswin\\anaconda3\\lib\\site-packages (from pandas_datareader) (5.2.1)\n",
      "Requirement already satisfied: pandas>=0.23 in c:\\users\\aswin\\anaconda3\\lib\\site-packages (from pandas_datareader) (2.2.2)\n",
      "Requirement already satisfied: requests>=2.19.0 in c:\\users\\aswin\\anaconda3\\lib\\site-packages (from pandas_datareader) (2.32.3)\n",
      "Requirement already satisfied: numpy>=1.26.0 in c:\\users\\aswin\\anaconda3\\lib\\site-packages (from pandas>=0.23->pandas_datareader) (1.26.4)\n",
      "Requirement already satisfied: python-dateutil>=2.8.2 in c:\\users\\aswin\\anaconda3\\lib\\site-packages (from pandas>=0.23->pandas_datareader) (2.9.0.post0)\n",
      "Requirement already satisfied: pytz>=2020.1 in c:\\users\\aswin\\anaconda3\\lib\\site-packages (from pandas>=0.23->pandas_datareader) (2024.1)\n",
      "Requirement already satisfied: tzdata>=2022.7 in c:\\users\\aswin\\anaconda3\\lib\\site-packages (from pandas>=0.23->pandas_datareader) (2023.3)\n",
      "Requirement already satisfied: charset-normalizer<4,>=2 in c:\\users\\aswin\\anaconda3\\lib\\site-packages (from requests>=2.19.0->pandas_datareader) (3.3.2)\n",
      "Requirement already satisfied: idna<4,>=2.5 in c:\\users\\aswin\\anaconda3\\lib\\site-packages (from requests>=2.19.0->pandas_datareader) (3.7)\n",
      "Requirement already satisfied: urllib3<3,>=1.21.1 in c:\\users\\aswin\\anaconda3\\lib\\site-packages (from requests>=2.19.0->pandas_datareader) (2.2.3)\n",
      "Requirement already satisfied: certifi>=2017.4.17 in c:\\users\\aswin\\anaconda3\\lib\\site-packages (from requests>=2.19.0->pandas_datareader) (2024.8.30)\n",
      "Requirement already satisfied: six>=1.5 in c:\\users\\aswin\\anaconda3\\lib\\site-packages (from python-dateutil>=2.8.2->pandas>=0.23->pandas_datareader) (1.16.0)\n"
     ]
    },
    {
     "data": {
      "text/html": [
       "<div>\n",
       "<style scoped>\n",
       "    .dataframe tbody tr th:only-of-type {\n",
       "        vertical-align: middle;\n",
       "    }\n",
       "\n",
       "    .dataframe tbody tr th {\n",
       "        vertical-align: top;\n",
       "    }\n",
       "\n",
       "    .dataframe thead th {\n",
       "        text-align: right;\n",
       "    }\n",
       "</style>\n",
       "<table border=\"1\" class=\"dataframe\">\n",
       "  <thead>\n",
       "    <tr style=\"text-align: right;\">\n",
       "      <th></th>\n",
       "      <th>Open</th>\n",
       "      <th>High</th>\n",
       "      <th>Low</th>\n",
       "      <th>Close</th>\n",
       "      <th>Volume</th>\n",
       "    </tr>\n",
       "    <tr>\n",
       "      <th>Date</th>\n",
       "      <th></th>\n",
       "      <th></th>\n",
       "      <th></th>\n",
       "      <th></th>\n",
       "      <th></th>\n",
       "    </tr>\n",
       "  </thead>\n",
       "  <tbody>\n",
       "    <tr>\n",
       "      <th>2020-02-03</th>\n",
       "      <td>55500</td>\n",
       "      <td>57400</td>\n",
       "      <td>55200</td>\n",
       "      <td>57200</td>\n",
       "      <td>23995260</td>\n",
       "    </tr>\n",
       "    <tr>\n",
       "      <th>2020-02-04</th>\n",
       "      <td>57100</td>\n",
       "      <td>59000</td>\n",
       "      <td>56800</td>\n",
       "      <td>58900</td>\n",
       "      <td>21800192</td>\n",
       "    </tr>\n",
       "    <tr>\n",
       "      <th>2020-02-05</th>\n",
       "      <td>60000</td>\n",
       "      <td>60200</td>\n",
       "      <td>58900</td>\n",
       "      <td>59500</td>\n",
       "      <td>19278165</td>\n",
       "    </tr>\n",
       "    <tr>\n",
       "      <th>2020-02-06</th>\n",
       "      <td>60100</td>\n",
       "      <td>61100</td>\n",
       "      <td>59700</td>\n",
       "      <td>61100</td>\n",
       "      <td>14727159</td>\n",
       "    </tr>\n",
       "    <tr>\n",
       "      <th>2020-02-07</th>\n",
       "      <td>61100</td>\n",
       "      <td>61200</td>\n",
       "      <td>59700</td>\n",
       "      <td>60400</td>\n",
       "      <td>16402493</td>\n",
       "    </tr>\n",
       "    <tr>\n",
       "      <th>...</th>\n",
       "      <td>...</td>\n",
       "      <td>...</td>\n",
       "      <td>...</td>\n",
       "      <td>...</td>\n",
       "      <td>...</td>\n",
       "    </tr>\n",
       "    <tr>\n",
       "      <th>2025-01-21</th>\n",
       "      <td>53700</td>\n",
       "      <td>54300</td>\n",
       "      <td>53300</td>\n",
       "      <td>53500</td>\n",
       "      <td>13535702</td>\n",
       "    </tr>\n",
       "    <tr>\n",
       "      <th>2025-01-22</th>\n",
       "      <td>53400</td>\n",
       "      <td>54400</td>\n",
       "      <td>53100</td>\n",
       "      <td>54300</td>\n",
       "      <td>18341991</td>\n",
       "    </tr>\n",
       "    <tr>\n",
       "      <th>2025-01-23</th>\n",
       "      <td>53700</td>\n",
       "      <td>54100</td>\n",
       "      <td>53500</td>\n",
       "      <td>53700</td>\n",
       "      <td>15588067</td>\n",
       "    </tr>\n",
       "    <tr>\n",
       "      <th>2025-01-24</th>\n",
       "      <td>53600</td>\n",
       "      <td>53800</td>\n",
       "      <td>53200</td>\n",
       "      <td>53700</td>\n",
       "      <td>11867631</td>\n",
       "    </tr>\n",
       "    <tr>\n",
       "      <th>2025-01-31</th>\n",
       "      <td>52200</td>\n",
       "      <td>53000</td>\n",
       "      <td>51700</td>\n",
       "      <td>52400</td>\n",
       "      <td>42186279</td>\n",
       "    </tr>\n",
       "  </tbody>\n",
       "</table>\n",
       "<p>1229 rows × 5 columns</p>\n",
       "</div>"
      ],
      "text/plain": [
       "             Open   High    Low  Close    Volume\n",
       "Date                                            \n",
       "2020-02-03  55500  57400  55200  57200  23995260\n",
       "2020-02-04  57100  59000  56800  58900  21800192\n",
       "2020-02-05  60000  60200  58900  59500  19278165\n",
       "2020-02-06  60100  61100  59700  61100  14727159\n",
       "2020-02-07  61100  61200  59700  60400  16402493\n",
       "...           ...    ...    ...    ...       ...\n",
       "2025-01-21  53700  54300  53300  53500  13535702\n",
       "2025-01-22  53400  54400  53100  54300  18341991\n",
       "2025-01-23  53700  54100  53500  53700  15588067\n",
       "2025-01-24  53600  53800  53200  53700  11867631\n",
       "2025-01-31  52200  53000  51700  52400  42186279\n",
       "\n",
       "[1229 rows x 5 columns]"
      ]
     },
     "execution_count": 118,
     "metadata": {},
     "output_type": "execute_result"
    }
   ],
   "source": [
    "\n",
    "!pip install pandas_datareader\n",
    "# Import Packages\n",
    "import pandas as pd\n",
    "import pandas_datareader.data as pdr\n",
    "\n",
    "# The first argument is the specific stock or index we want to retrive data for\n",
    "# 005930 corresponds to Samsung on the KOSPI index\n",
    "\n",
    "# The second argument is the data source we want to connect to - in our example it's naver\n",
    "\n",
    "pdr.DataReader('005930','naver','2020-02-01','2025-02-01')\n",
    "\n",
    "# We also need to define the start and end date for the days of information that we want to import into our DataFrame\n"
   ]
  },
  {
   "cell_type": "markdown",
   "id": "8c661624",
   "metadata": {},
   "source": [
    "We can use functions from the `yfinance` package to connect to yahoo finance data for a particular stock, in this case an ETF that tracks the S&P 500 stock market index. This time we can define our arguments outside of the function. This will make them easier to find and change in the future. We can also store the resulting DataFrame for future use in our notebook."
   ]
  },
  {
   "cell_type": "code",
   "execution_count": 122,
   "id": "70bf5664",
   "metadata": {},
   "outputs": [
    {
     "name": "stdout",
     "output_type": "stream",
     "text": [
      "Collecting yfinance\n",
      "  Downloading yfinance-0.2.53-py2.py3-none-any.whl.metadata (5.8 kB)\n",
      "Requirement already satisfied: pandas>=1.3.0 in c:\\users\\aswin\\anaconda3\\lib\\site-packages (from yfinance) (2.2.2)\n",
      "Requirement already satisfied: numpy>=1.16.5 in c:\\users\\aswin\\anaconda3\\lib\\site-packages (from yfinance) (1.26.4)\n",
      "Requirement already satisfied: requests>=2.31 in c:\\users\\aswin\\anaconda3\\lib\\site-packages (from yfinance) (2.32.3)\n",
      "Collecting multitasking>=0.0.7 (from yfinance)\n",
      "  Downloading multitasking-0.0.11-py3-none-any.whl.metadata (5.5 kB)\n",
      "Requirement already satisfied: platformdirs>=2.0.0 in c:\\users\\aswin\\anaconda3\\lib\\site-packages (from yfinance) (3.10.0)\n",
      "Requirement already satisfied: pytz>=2022.5 in c:\\users\\aswin\\anaconda3\\lib\\site-packages (from yfinance) (2024.1)\n",
      "Requirement already satisfied: frozendict>=2.3.4 in c:\\users\\aswin\\anaconda3\\lib\\site-packages (from yfinance) (2.4.2)\n",
      "Collecting peewee>=3.16.2 (from yfinance)\n",
      "  Downloading peewee-3.17.9.tar.gz (3.0 MB)\n",
      "     ---------------------------------------- 0.0/3.0 MB ? eta -:--:--\n",
      "     ---------------------------------------- 3.0/3.0 MB 25.1 MB/s eta 0:00:00\n",
      "  Installing build dependencies: started\n",
      "  Installing build dependencies: finished with status 'done'\n",
      "  Getting requirements to build wheel: started\n",
      "  Getting requirements to build wheel: finished with status 'done'\n",
      "  Preparing metadata (pyproject.toml): started\n",
      "  Preparing metadata (pyproject.toml): finished with status 'done'\n",
      "Requirement already satisfied: beautifulsoup4>=4.11.1 in c:\\users\\aswin\\anaconda3\\lib\\site-packages (from yfinance) (4.12.3)\n",
      "Requirement already satisfied: soupsieve>1.2 in c:\\users\\aswin\\anaconda3\\lib\\site-packages (from beautifulsoup4>=4.11.1->yfinance) (2.5)\n",
      "Requirement already satisfied: python-dateutil>=2.8.2 in c:\\users\\aswin\\anaconda3\\lib\\site-packages (from pandas>=1.3.0->yfinance) (2.9.0.post0)\n",
      "Requirement already satisfied: tzdata>=2022.7 in c:\\users\\aswin\\anaconda3\\lib\\site-packages (from pandas>=1.3.0->yfinance) (2023.3)\n",
      "Requirement already satisfied: charset-normalizer<4,>=2 in c:\\users\\aswin\\anaconda3\\lib\\site-packages (from requests>=2.31->yfinance) (3.3.2)\n",
      "Requirement already satisfied: idna<4,>=2.5 in c:\\users\\aswin\\anaconda3\\lib\\site-packages (from requests>=2.31->yfinance) (3.7)\n",
      "Requirement already satisfied: urllib3<3,>=1.21.1 in c:\\users\\aswin\\anaconda3\\lib\\site-packages (from requests>=2.31->yfinance) (2.2.3)\n",
      "Requirement already satisfied: certifi>=2017.4.17 in c:\\users\\aswin\\anaconda3\\lib\\site-packages (from requests>=2.31->yfinance) (2024.8.30)\n",
      "Requirement already satisfied: six>=1.5 in c:\\users\\aswin\\anaconda3\\lib\\site-packages (from python-dateutil>=2.8.2->pandas>=1.3.0->yfinance) (1.16.0)\n",
      "Downloading yfinance-0.2.53-py2.py3-none-any.whl (108 kB)\n",
      "Downloading multitasking-0.0.11-py3-none-any.whl (8.5 kB)\n",
      "Building wheels for collected packages: peewee\n",
      "  Building wheel for peewee (pyproject.toml): started\n",
      "  Building wheel for peewee (pyproject.toml): finished with status 'done'\n",
      "  Created wheel for peewee: filename=peewee-3.17.9-py3-none-any.whl size=139096 sha256=5611d5f9e4f6c1e195d45943e7221a44985774f82d01f8131e4ae7b9654d2677\n",
      "  Stored in directory: c:\\users\\aswin\\appdata\\local\\pip\\cache\\wheels\\43\\ef\\2d\\2c51d496bf084945ffdf838b4cc8767b8ba1cc20eb41588831\n",
      "Successfully built peewee\n",
      "Installing collected packages: peewee, multitasking, yfinance\n",
      "Successfully installed multitasking-0.0.11 peewee-3.17.9 yfinance-0.2.53\n",
      "YF.download() has changed argument auto_adjust default to True\n"
     ]
    },
    {
     "name": "stderr",
     "output_type": "stream",
     "text": [
      "[*********************100%***********************]  1 of 1 completed"
     ]
    },
    {
     "name": "stdout",
     "output_type": "stream",
     "text": [
      "Price            Close        High         Low        Open     Volume\n",
      "Ticker             SPY         SPY         SPY         SPY        SPY\n",
      "Date                                                                 \n",
      "2022-01-03  457.181580  457.315577  453.487468  455.832167   72668200\n",
      "2022-01-04  457.028473  459.354072  455.143128  458.626722   71178700\n",
      "2022-01-05  448.252533  457.440003  448.156824  456.655233  104538900\n",
      "2022-01-06  447.831421  450.587665  445.429273  447.783581   86858900\n",
      "2022-01-07  446.060944  449.037314  444.682822  447.841030   85111600\n",
      "...                ...         ...         ...         ...        ...\n",
      "2025-01-24  607.969971  610.780029  606.799988  609.809998   34604700\n",
      "2025-01-27  599.369995  599.690002  594.640015  594.809998   70361100\n",
      "2025-01-28  604.520020  605.369995  597.250000  600.619995   44433300\n",
      "2025-01-29  601.809998  604.130005  599.219971  603.719971   37177400\n",
      "2025-01-30  605.039978  606.599976  600.719971  603.960022   39281300\n",
      "\n",
      "[772 rows x 5 columns]\n"
     ]
    },
    {
     "name": "stderr",
     "output_type": "stream",
     "text": [
      "\n"
     ]
    }
   ],
   "source": [
    "!pip install yfinance\n",
    "# Import yfinance for yahoo data\n",
    "import yfinance as yf\n",
    "stock = 'SPY'\n",
    "startdate = '2022-01-01'\n",
    "enddate = '2025-01-31'\n",
    "\n",
    "stocks_df = yf.download(stock, start=startdate,end=enddate)\n",
    "\n",
    "print(stocks_df)"
   ]
  },
  {
   "cell_type": "markdown",
   "id": "5bec5826",
   "metadata": {},
   "source": [
    "## Importing External .csv\n",
    "\n",
    "One of the more powerful ways of creating a DataFrame is to import a .csv file. This will save tremendous amount of time in recreating a data source in Python and allow Python to read the data in. We can use the `pd.read.csv()` function to do this.\n",
    "\n",
    "When using this function, either the relative file path or the complete file path must be submitted between quotation marks. For a relative file path, if the csv. file is in the same working directory folder as the notebook, you can simply submit the file name with the csv. suffix. \n",
    "\n",
    "If the file is in another folder, then you must provide extra information of the path pandas should take to refer to the file (ie. 'datafolder/Data Source.csv')."
   ]
  },
  {
   "cell_type": "code",
   "execution_count": 130,
   "id": "8ec98fb0",
   "metadata": {
    "scrolled": true
   },
   "outputs": [
    {
     "data": {
      "text/html": [
       "<div>\n",
       "<style scoped>\n",
       "    .dataframe tbody tr th:only-of-type {\n",
       "        vertical-align: middle;\n",
       "    }\n",
       "\n",
       "    .dataframe tbody tr th {\n",
       "        vertical-align: top;\n",
       "    }\n",
       "\n",
       "    .dataframe thead th {\n",
       "        text-align: right;\n",
       "    }\n",
       "</style>\n",
       "<table border=\"1\" class=\"dataframe\">\n",
       "  <thead>\n",
       "    <tr style=\"text-align: right;\">\n",
       "      <th></th>\n",
       "      <th>Store</th>\n",
       "      <th>Date</th>\n",
       "      <th>CategoryID</th>\n",
       "      <th>ProductID</th>\n",
       "      <th>Q1</th>\n",
       "      <th>Q2</th>\n",
       "      <th>Q3</th>\n",
       "      <th>Q4</th>\n",
       "    </tr>\n",
       "  </thead>\n",
       "  <tbody>\n",
       "    <tr>\n",
       "      <th>0</th>\n",
       "      <td>1</td>\n",
       "      <td>3/10/2019 0:00:00</td>\n",
       "      <td>1</td>\n",
       "      <td>11XXRP-P</td>\n",
       "      <td>24924.50</td>\n",
       "      <td>46039.49</td>\n",
       "      <td>41595.55</td>\n",
       "      <td>NaN</td>\n",
       "    </tr>\n",
       "    <tr>\n",
       "      <th>1</th>\n",
       "      <td>1</td>\n",
       "      <td>6/4/2019 0:00:00</td>\n",
       "      <td>2</td>\n",
       "      <td>12XXRP-Q</td>\n",
       "      <td>50605.27</td>\n",
       "      <td>44682.74</td>\n",
       "      <td>47928.89</td>\n",
       "      <td>NaN</td>\n",
       "    </tr>\n",
       "    <tr>\n",
       "      <th>2</th>\n",
       "      <td>1</td>\n",
       "      <td>1/16/2019 0:00:00</td>\n",
       "      <td>3</td>\n",
       "      <td>13XXRP</td>\n",
       "      <td>13740.12</td>\n",
       "      <td>10887.84</td>\n",
       "      <td>11523.47</td>\n",
       "      <td>NaN</td>\n",
       "    </tr>\n",
       "    <tr>\n",
       "      <th>3</th>\n",
       "      <td>1</td>\n",
       "      <td>10/18/2019 0:00:00</td>\n",
       "      <td>4</td>\n",
       "      <td>14XXRP</td>\n",
       "      <td>39954.04</td>\n",
       "      <td>d35351.21</td>\n",
       "      <td>36826.95</td>\n",
       "      <td>NaN</td>\n",
       "    </tr>\n",
       "    <tr>\n",
       "      <th>4</th>\n",
       "      <td>1</td>\n",
       "      <td>4/11/2019 0:00:00</td>\n",
       "      <td>5</td>\n",
       "      <td>15XXRP-A</td>\n",
       "      <td>32229.38</td>\n",
       "      <td>29620.81</td>\n",
       "      <td>26468.27</td>\n",
       "      <td>NaN</td>\n",
       "    </tr>\n",
       "    <tr>\n",
       "      <th>...</th>\n",
       "      <td>...</td>\n",
       "      <td>...</td>\n",
       "      <td>...</td>\n",
       "      <td>...</td>\n",
       "      <td>...</td>\n",
       "      <td>...</td>\n",
       "      <td>...</td>\n",
       "      <td>...</td>\n",
       "    </tr>\n",
       "    <tr>\n",
       "      <th>1882</th>\n",
       "      <td>40</td>\n",
       "      <td>3/24/2019 0:00:00</td>\n",
       "      <td>44</td>\n",
       "      <td>4044XXRP</td>\n",
       "      <td>3280.00</td>\n",
       "      <td>3556.22</td>\n",
       "      <td>2965.33</td>\n",
       "      <td>3041.41</td>\n",
       "    </tr>\n",
       "    <tr>\n",
       "      <th>1883</th>\n",
       "      <td>40</td>\n",
       "      <td>3/24/2019 0:00:00</td>\n",
       "      <td>44</td>\n",
       "      <td>4044XXRP</td>\n",
       "      <td>3280.00</td>\n",
       "      <td>3556.22</td>\n",
       "      <td>2965.33</td>\n",
       "      <td>3041.41</td>\n",
       "    </tr>\n",
       "    <tr>\n",
       "      <th>1884</th>\n",
       "      <td>40</td>\n",
       "      <td>3/24/2019 0:00:00</td>\n",
       "      <td>44</td>\n",
       "      <td>4044XXRP</td>\n",
       "      <td>3280.00</td>\n",
       "      <td>3556.22</td>\n",
       "      <td>2965.33</td>\n",
       "      <td>3041.41</td>\n",
       "    </tr>\n",
       "    <tr>\n",
       "      <th>1885</th>\n",
       "      <td>40</td>\n",
       "      <td>9/30/2019 0:00:00</td>\n",
       "      <td>49</td>\n",
       "      <td>4049XXRP</td>\n",
       "      <td>0.00</td>\n",
       "      <td>NaN</td>\n",
       "      <td>NaN</td>\n",
       "      <td>-23.99</td>\n",
       "    </tr>\n",
       "    <tr>\n",
       "      <th>1886</th>\n",
       "      <td>40</td>\n",
       "      <td>6/14/2019 0:00:00</td>\n",
       "      <td>43</td>\n",
       "      <td>4093XXRP</td>\n",
       "      <td>31080.68</td>\n",
       "      <td>26600.39</td>\n",
       "      <td>23709.23</td>\n",
       "      <td>22879.37</td>\n",
       "    </tr>\n",
       "  </tbody>\n",
       "</table>\n",
       "<p>1887 rows × 8 columns</p>\n",
       "</div>"
      ],
      "text/plain": [
       "      Store                Date  CategoryID ProductID        Q1         Q2  \\\n",
       "0         1   3/10/2019 0:00:00           1  11XXRP-P  24924.50   46039.49   \n",
       "1         1    6/4/2019 0:00:00           2  12XXRP-Q  50605.27   44682.74   \n",
       "2         1   1/16/2019 0:00:00           3    13XXRP  13740.12   10887.84   \n",
       "3         1  10/18/2019 0:00:00           4    14XXRP  39954.04  d35351.21   \n",
       "4         1   4/11/2019 0:00:00           5  15XXRP-A  32229.38   29620.81   \n",
       "...     ...                 ...         ...       ...       ...        ...   \n",
       "1882     40   3/24/2019 0:00:00          44  4044XXRP   3280.00    3556.22   \n",
       "1883     40   3/24/2019 0:00:00          44  4044XXRP   3280.00    3556.22   \n",
       "1884     40   3/24/2019 0:00:00          44  4044XXRP   3280.00    3556.22   \n",
       "1885     40   9/30/2019 0:00:00          49  4049XXRP      0.00        NaN   \n",
       "1886     40   6/14/2019 0:00:00          43  4093XXRP  31080.68   26600.39   \n",
       "\n",
       "            Q3        Q4  \n",
       "0     41595.55       NaN  \n",
       "1     47928.89       NaN  \n",
       "2     11523.47       NaN  \n",
       "3     36826.95       NaN  \n",
       "4     26468.27       NaN  \n",
       "...        ...       ...  \n",
       "1882   2965.33   3041.41  \n",
       "1883   2965.33   3041.41  \n",
       "1884   2965.33   3041.41  \n",
       "1885       NaN    -23.99  \n",
       "1886  23709.23  22879.37  \n",
       "\n",
       "[1887 rows x 8 columns]"
      ]
     },
     "execution_count": 130,
     "metadata": {},
     "output_type": "execute_result"
    }
   ],
   "source": [
    "#Importing an external .csv using a relative file path\n",
    "dataframe_3=pd.read_csv('Data Source.csv')\n",
    "dataframe_3"
   ]
  },
  {
   "cell_type": "raw",
   "id": "68168c5d-3193-472c-b173-674c42868c93",
   "metadata": {},
   "source": [
    "To display only the top 10 records from the dataframe"
   ]
  },
  {
   "cell_type": "code",
   "execution_count": 136,
   "id": "bc09c2fc-3f4b-4c4a-9037-81ea587ee887",
   "metadata": {},
   "outputs": [
    {
     "data": {
      "text/html": [
       "<div>\n",
       "<style scoped>\n",
       "    .dataframe tbody tr th:only-of-type {\n",
       "        vertical-align: middle;\n",
       "    }\n",
       "\n",
       "    .dataframe tbody tr th {\n",
       "        vertical-align: top;\n",
       "    }\n",
       "\n",
       "    .dataframe thead th {\n",
       "        text-align: right;\n",
       "    }\n",
       "</style>\n",
       "<table border=\"1\" class=\"dataframe\">\n",
       "  <thead>\n",
       "    <tr style=\"text-align: right;\">\n",
       "      <th></th>\n",
       "      <th>Store</th>\n",
       "      <th>Date</th>\n",
       "      <th>CategoryID</th>\n",
       "      <th>ProductID</th>\n",
       "      <th>Q1</th>\n",
       "      <th>Q2</th>\n",
       "      <th>Q3</th>\n",
       "      <th>Q4</th>\n",
       "    </tr>\n",
       "  </thead>\n",
       "  <tbody>\n",
       "    <tr>\n",
       "      <th>0</th>\n",
       "      <td>1</td>\n",
       "      <td>3/10/2019 0:00:00</td>\n",
       "      <td>1</td>\n",
       "      <td>11XXRP-P</td>\n",
       "      <td>24924.50</td>\n",
       "      <td>46039.49</td>\n",
       "      <td>41595.55</td>\n",
       "      <td>NaN</td>\n",
       "    </tr>\n",
       "    <tr>\n",
       "      <th>1</th>\n",
       "      <td>1</td>\n",
       "      <td>6/4/2019 0:00:00</td>\n",
       "      <td>2</td>\n",
       "      <td>12XXRP-Q</td>\n",
       "      <td>50605.27</td>\n",
       "      <td>44682.74</td>\n",
       "      <td>47928.89</td>\n",
       "      <td>NaN</td>\n",
       "    </tr>\n",
       "    <tr>\n",
       "      <th>2</th>\n",
       "      <td>1</td>\n",
       "      <td>1/16/2019 0:00:00</td>\n",
       "      <td>3</td>\n",
       "      <td>13XXRP</td>\n",
       "      <td>13740.12</td>\n",
       "      <td>10887.84</td>\n",
       "      <td>11523.47</td>\n",
       "      <td>NaN</td>\n",
       "    </tr>\n",
       "    <tr>\n",
       "      <th>3</th>\n",
       "      <td>1</td>\n",
       "      <td>10/18/2019 0:00:00</td>\n",
       "      <td>4</td>\n",
       "      <td>14XXRP</td>\n",
       "      <td>39954.04</td>\n",
       "      <td>d35351.21</td>\n",
       "      <td>36826.95</td>\n",
       "      <td>NaN</td>\n",
       "    </tr>\n",
       "    <tr>\n",
       "      <th>4</th>\n",
       "      <td>1</td>\n",
       "      <td>4/11/2019 0:00:00</td>\n",
       "      <td>5</td>\n",
       "      <td>15XXRP-A</td>\n",
       "      <td>32229.38</td>\n",
       "      <td>29620.81</td>\n",
       "      <td>26468.27</td>\n",
       "      <td>NaN</td>\n",
       "    </tr>\n",
       "    <tr>\n",
       "      <th>5</th>\n",
       "      <td>1</td>\n",
       "      <td>5/30/2019 0:00:00</td>\n",
       "      <td>6</td>\n",
       "      <td>16XXRP</td>\n",
       "      <td>5749.03</td>\n",
       "      <td>9135.87</td>\n",
       "      <td>6060.26</td>\n",
       "      <td>NaN</td>\n",
       "    </tr>\n",
       "    <tr>\n",
       "      <th>6</th>\n",
       "      <td>1</td>\n",
       "      <td>12/1/2019 0:00:00</td>\n",
       "      <td>7</td>\n",
       "      <td>17XXRP</td>\n",
       "      <td>21084.08</td>\n",
       "      <td>18310.31</td>\n",
       "      <td>19985.20</td>\n",
       "      <td>NaN</td>\n",
       "    </tr>\n",
       "    <tr>\n",
       "      <th>7</th>\n",
       "      <td>1</td>\n",
       "      <td>2/22/2019 0:00:00</td>\n",
       "      <td>8</td>\n",
       "      <td>18XXRP-C</td>\n",
       "      <td>40129.01</td>\n",
       "      <td>37334.83</td>\n",
       "      <td>38717.60</td>\n",
       "      <td>NaN</td>\n",
       "    </tr>\n",
       "    <tr>\n",
       "      <th>8</th>\n",
       "      <td>1</td>\n",
       "      <td>6/17/2019 0:00:00</td>\n",
       "      <td>9</td>\n",
       "      <td>19XXRP</td>\n",
       "      <td>16930.99</td>\n",
       "      <td>16562.49</td>\n",
       "      <td>15880.85</td>\n",
       "      <td>15175.52</td>\n",
       "    </tr>\n",
       "    <tr>\n",
       "      <th>9</th>\n",
       "      <td>1</td>\n",
       "      <td>3/3/2019 0:00:00</td>\n",
       "      <td>10</td>\n",
       "      <td>110XXRP</td>\n",
       "      <td>30721.50</td>\n",
       "      <td>31494.77</td>\n",
       "      <td>29634.13</td>\n",
       "      <td>27921.96</td>\n",
       "    </tr>\n",
       "  </tbody>\n",
       "</table>\n",
       "</div>"
      ],
      "text/plain": [
       "   Store                Date  CategoryID ProductID        Q1         Q2  \\\n",
       "0      1   3/10/2019 0:00:00           1  11XXRP-P  24924.50   46039.49   \n",
       "1      1    6/4/2019 0:00:00           2  12XXRP-Q  50605.27   44682.74   \n",
       "2      1   1/16/2019 0:00:00           3    13XXRP  13740.12   10887.84   \n",
       "3      1  10/18/2019 0:00:00           4    14XXRP  39954.04  d35351.21   \n",
       "4      1   4/11/2019 0:00:00           5  15XXRP-A  32229.38   29620.81   \n",
       "5      1   5/30/2019 0:00:00           6    16XXRP   5749.03    9135.87   \n",
       "6      1   12/1/2019 0:00:00           7    17XXRP  21084.08   18310.31   \n",
       "7      1   2/22/2019 0:00:00           8  18XXRP-C  40129.01   37334.83   \n",
       "8      1   6/17/2019 0:00:00           9    19XXRP  16930.99   16562.49   \n",
       "9      1    3/3/2019 0:00:00          10   110XXRP  30721.50   31494.77   \n",
       "\n",
       "         Q3        Q4  \n",
       "0  41595.55       NaN  \n",
       "1  47928.89       NaN  \n",
       "2  11523.47       NaN  \n",
       "3  36826.95       NaN  \n",
       "4  26468.27       NaN  \n",
       "5   6060.26       NaN  \n",
       "6  19985.20       NaN  \n",
       "7  38717.60       NaN  \n",
       "8  15880.85  15175.52  \n",
       "9  29634.13  27921.96  "
      ]
     },
     "execution_count": 136,
     "metadata": {},
     "output_type": "execute_result"
    }
   ],
   "source": [
    "dataframe_3.head(10)"
   ]
  },
  {
   "cell_type": "markdown",
   "id": "d27abcf3",
   "metadata": {},
   "source": [
    "We will continue to work with .csv data in Python in the next section of this chapter. However, much like what we see in a real-world setting, data is not always perfect. We can see that we have errors in our data, such as NaN values and duplicates."
   ]
  }
 ],
 "metadata": {
  "kernelspec": {
   "display_name": "Python 3 (ipykernel)",
   "language": "python",
   "name": "python3"
  },
  "language_info": {
   "codemirror_mode": {
    "name": "ipython",
    "version": 3
   },
   "file_extension": ".py",
   "mimetype": "text/x-python",
   "name": "python",
   "nbconvert_exporter": "python",
   "pygments_lexer": "ipython3",
   "version": "3.12.7"
  }
 },
 "nbformat": 4,
 "nbformat_minor": 5
}
